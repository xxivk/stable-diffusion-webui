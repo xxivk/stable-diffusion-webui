# use webuiapi.py from webuiapi folder
import sys
sys.path.append('./webuiapi')


!pip install webuiapi

import webuiapi
#api = webuiapi.WebUIApi(host='127.0.0.1', port=7860)
api = webuiapi.WebUIApi(host='100.75.153.5', port=8000)

# txt2img

result1 = api.txt2img(
    prompt="Close - up real - Live - action adaptation of a 3d character of Asuka Langley Soryu in plugsuit, NeonGenesis Evangelion cool expression",
    negative_prompt="(worst quality:1.5), (low quality:1.5), (normal quality:1.5), lowres, bad anatomy, bad hands, multiple eyebrow, (cropped), extra limb, missing limbs, deformed hands, long neck, long body, (bad hands), signature, username, artist name, conjoined fingers, deformed fingers, ugly eyes, imperfect eyes, skewed eyes, unnatural face, unnatural body, error, painting by bad-artist",
     #styles=["anime"], #no need for style the model is pretrained
     cfg_scale=7,
     sampler_name='Euler a',     ## Heres the options : DPM++ 2M Karras , DPM++ SDE Karras , DPM++ 2M SDE Exponential , DPM++ 2M SDE Karras
     steps="75",                 ## Euler a , Euler , LMS , Heun , DPM2 , DPM2 a , DPM++ 2S a , DPM++ 2M , DPM++ SDE , DPM++ 2M SDE , DPM++ 2M SDE Heun
     #seed=2121750427,#2231228288,
     #subseed= -1,
     #subseed_strength= 0,
     #seed_resize_from_h= -1,
     #seed_resize_from_w= -1,
     #restore_faces='true',
     hr_scale= 2,  # hires step
     batch_size= 1,
     #batch_count= 1,# NOT SUPPORTED
     width=512, #image width 
     height=512, #Image Height
     n_iter= 10, # number of interactions = repeat process X times plz dont go higher than 4 :)
     #tiling='true', # masked 
     eta= 0,
     denoising_strength=0.7, # for hr 
     hr_upscaler="Latent", # Latent (antialiased) , Latent (bicubic) , Latent (bicubic antialiased) , Latent (nearest) , Latent (nearest) , Nearest
     #refiner_checkpoint="path to safetensor file",
                    )
result1.image
# txt2img

result1 = api.txt2img(
                   prompt="masterpiece, best quality, half body, portrait, night city, 1girl, anime, 3D, Japan, pixar, realistic, teen girl, smiling, cute face, harajuku fashion style, rain coat, beautiful, colourful, neon lights, cyberpunk, smooth skin, illustration, by stanley artgerm lau, sideways glance, foreshortening, extremely detailed 8K, smooth, high resolution, ultra quality, highly detail eyes, highly detail mouth, highly detailed face, perfect eyes, both eyes are the same, glare, Iridescent, Global illumination, hd, 8k realistic light and shadow, bright Eyes, fluorescent eyes",
                   negative_prompt="(worst quality:1.5), (low quality:1.5), (normal quality:1.5), lowres, bad anatomy, bad hands, multiple eyebrow, (cropped), extra limb, missing limbs, deformed hands, long neck, long body, (bad hands), signature, username, artist name, conjoined fingers, deformed fingers, ugly eyes, imperfect eyes, skewed eyes, unnatural face, unnatural body, error, painting by bad-artist",
                    #styles=["anime"], #no need for style the model is pretrained
                    cfg_scale=7,
                    sampler_name='Euler a',     ## Heres the options : DPM++ 2M Karras , DPM++ SDE Karras , DPM++ 2M SDE Exponential , DPM++ 2M SDE Karras
                    steps="50",                 ## Euler a , Euler , LMS , Heun , DPM2 , DPM2 a , DPM++ 2S a , DPM++ 2M , DPM++ SDE , DPM++ 2M SDE , DPM++ 2M SDE Heun
                    #seed=-1,#2231228288,
                    #subseed= -1,
                    #"subseed_strength": 0,
                    #seed_resize_from_h= -1,
                    #seed_resize_from_w= -1,
                    #restore_faces='true',
                    hr_scale= 2,  # hires step
                    batch_size= 1,
                    #batch_count= 1,# NOT SUPPORTED
                    width=512, #image width 
                    height=512, #Image Height
                    n_iter= 5, # number of interactions = repeat process X times plz dont go higher than 4 :)
                    #tiling='true', # masked 
                    eta= 0,
                    denoising_strength=0.7, # for hr 
                    hr_upscaler="Latent", # Latent (antialiased) , Latent (bicubic) , Latent (bicubic antialiased) , Latent (nearest) , Latent (nearest) , Nearest
                    #refiner_checkpoint="path to safetensor file",
                    #refiner_switch_at=0.8,

                    ##### HIRE STEPS ####
                    #hr_prompt="",
                    #hr_negative_prompt="",
                    #"hr_second_pass_steps": 0,
                    #"hr_resize_x": 0,
                    #"hr_resize_y": 0,
                    #"hr_checkpoint_name": "string",
                    #hr_sampler_name= "string",
                    #enable_hr= "false",




                    

                    







  #"do_not_save_samples": false,
  #"do_not_save_grid": false,
  #"s_min_uncond": 0,
  #"s_churn": 0,
  #"s_tmax": 0,
  #"s_tmin": 0,
  #"s_noise": 0,
  #"override_settings": {},
  #"override_settings_restore_afterwards": true,
  #"disable_extra_networks": false,
  #"comments": {},
  #"firstphase_width": 0,
  #"firstphase_height": 0,
  
  #"script_name": "string",
  #"script_args": [],
  #"send_images": true,
  #"save_images": false,

                    )
result1.image
# txt2img

result1 = api.txt2img(
                   prompt="8k wallpaper of a beautiful anime adventurer girl wearing gold jewelry in the streets of a city in the Western Sahara, by artgerm, intricate detail, trending on artstation, 8k, fluid motion, stunning shading, by wlop",
                   negative_prompt="(worst quality:1.5), (low quality:1.5), (normal quality:1.5), lowres, bad anatomy, bad hands, multiple eyebrow, (cropped), extra limb, missing limbs, deformed hands, long neck, long body, (bad hands), signature, username, artist name, conjoined fingers, deformed fingers, ugly eyes, imperfect eyes, skewed eyes, unnatural face, unnatural body, error, painting by bad-artist",
                    #styles=["anime"], #no need for style the model is pretrained
                    cfg_scale=7,
                    sampler_name='Euler a',     ## Heres the options : DPM++ 2M Karras , DPM++ SDE Karras , DPM++ 2M SDE Exponential , DPM++ 2M SDE Karras
                    steps="75",                 ## Euler a , Euler , LMS , Heun , DPM2 , DPM2 a , DPM++ 2S a , DPM++ 2M , DPM++ SDE , DPM++ 2M SDE , DPM++ 2M SDE Heun
                    #seed=-1,#2231228288,
                    #subseed= -1,
                    #"subseed_strength": 0,
                    #seed_resize_from_h= -1,
                    #seed_resize_from_w= -1,
                    #restore_faces='true',
                    hr_scale= 2,  # hires step
                    batch_size= 1,
                    #batch_count= 1,# NOT SUPPORTED
                    width=832, #image width 
                    height=1216, #Image Height
                    n_iter= 1, # number of interactions = repeat process X times plz dont go higher than 4 :)
                    #tiling='true', # masked 
                    eta= 0,
                    denoising_strength=0.7, # for hr 
                    hr_upscaler="Latent", # Latent (antialiased) , Latent (bicubic) , Latent (bicubic antialiased) , Latent (nearest) , Latent (nearest) , Nearest
                    #refiner_checkpoint="path to safetensor file",
                    #refiner_switch_at=0.8,

                    ##### HIRE STEPS ####
                    #hr_prompt="",
                    #hr_negative_prompt="",
                    #"hr_second_pass_steps": 0,
                    #"hr_resize_x": 0,
                    #"hr_resize_y": 0,
                    #"hr_checkpoint_name": "string",
                    #hr_sampler_name= "string",
                    #enable_hr= "false",




                    

                    







  #"do_not_save_samples": false,
  #"do_not_save_grid": false,
  #"s_min_uncond": 0,
  #"s_churn": 0,
  #"s_tmax": 0,
  #"s_tmin": 0,
  #"s_noise": 0,
  #"override_settings": {},
  #"override_settings_restore_afterwards": true,
  #"disable_extra_networks": false,
  #"comments": {},
  #"firstphase_width": 0,
  #"firstphase_height": 0,
  
  #"script_name": "string",
  #"script_args": [],
  #"send_images": true,
  #"save_images": false,

                    )
result1.image
# txt2img

result1 = api.txt2img(
                   prompt="Kaori from akira wearing transparent raincoat, cyborg parts, rainy Neo Tokio photo shoot, cyberpunk",
                   negative_prompt="(worst quality:1.5), (low quality:1.5), (normal quality:1.5), lowres, bad anatomy, bad hands, multiple eyebrow, (cropped), extra limb, missing limbs, deformed hands, long neck, long body, (bad hands), signature, username, artist name, conjoined fingers, deformed fingers, ugly eyes, imperfect eyes, skewed eyes, unnatural face, unnatural body, error, painting by bad-artist",
                   #styles=["anime"], #no need for style the model is pretrained
                    cfg_scale=7,
                    sampler_name='Euler a',     ## Heres the options : DPM++ 2M Karras , DPM++ SDE Karras , DPM++ 2M SDE Exponential , DPM++ 2M SDE Karras
                    steps="60",                 ## Euler a , Euler , LMS , Heun , DPM2 , DPM2 a , DPM++ 2S a , DPM++ 2M , DPM++ SDE , DPM++ 2M SDE , DPM++ 2M SDE Heun
                    seed=-1,#2231228288,
                    #subseed= -1,
                    #"subseed_strength": 0,
                    #seed_resize_from_h= -1,
                    #seed_resize_from_w= -1,
                    #restore_faces='true',
                    hr_scale= 2,  # hires step
                    batch_size= 5,
                    #batch_count= 1,# NOT SUPPORTED
                    width=512, #image width 
                    height=768, #Image Height
                    n_iter= 1, # number of interactions = repeat process X times plz dont go higher than 4 :)
                    #tiling='true', # masked 
                    eta= 2,
                    denoising_strength=0.7, # for hr 
                    hr_upscaler="Latent", # Latent (antialiased) , Latent (bicubic) , Latent (bicubic antialiased) , Latent (nearest) , Latent (nearest) , Nearest
                    #refiner_checkpoint="path to safetensor file",
                    #refiner_switch_at=0.8,

                    ##### HIRE STEPS ####
                    #hr_prompt="",
                    #hr_negative_prompt="",
                    #"hr_second_pass_steps": 0,
                    #"hr_resize_x": 0,
                    #"hr_resize_y": 0,
                    #"hr_checkpoint_name": "string",
                    #hr_sampler_name= "string",
                    #enable_hr= "false",




                    

                    







  #"do_not_save_samples": false,
  #"do_not_save_grid": false,
  #"s_min_uncond": 0,
  #"s_churn": 0,
  #"s_tmax": 0,
  #"s_tmin": 0,
  #"s_noise": 0,
  #"override_settings": {},
  #"override_settings_restore_afterwards": true,
  #"disable_extra_networks": false,
  #"comments": {},
  #"firstphase_width": 0,
  #"firstphase_height": 0,
  
  #"script_name": "string",
  #"script_args": [],
  #"send_images": true,
  #"save_images": false,

                    )
result1.image
# txt2img

result1 = api.txt2img(
                   prompt="Nikki Tanaka. Cyberpunk mechanic in futuristic clothes blade runner 2049, cyberpunk 2077. Orientalist portrait by john william waterhouse and James Gurney and Theodore Ralli and Nasreddine Dinet, oil on canvas. Cinematic, hyper realism, realistic proportions, dramatic lighting, high detail 4k",
                   negative_prompt="(worst quality:1.5), (low quality:1.5), (normal quality:1.5), lowres, bad anatomy, bad hands, multiple eyebrow, (cropped), extra limb, missing limbs, deformed hands, long neck, long body, (bad hands), signature, username, artist name, conjoined fingers, deformed fingers, ugly eyes, imperfect eyes, skewed eyes, unnatural face, unnatural body, error, painting by bad-artist",
                   #styles=["anime"], #no need for style the model is pretrained
                    cfg_scale=7,
                    sampler_name='Euler a',     ## Heres the options : DPM++ 2M Karras , DPM++ SDE Karras , DPM++ 2M SDE Exponential , DPM++ 2M SDE Karras
                    steps="60",                 ## Euler a , Euler , LMS , Heun , DPM2 , DPM2 a , DPM++ 2S a , DPM++ 2M , DPM++ SDE , DPM++ 2M SDE , DPM++ 2M SDE Heun
                    seed=-1,#2231228288,
                    #subseed= -1,
                    #"subseed_strength": 0,
                    #seed_resize_from_h= -1,
                    #seed_resize_from_w= -1,
                    #restore_faces='true',
                    hr_scale= 2,  # hires step
                    batch_size= 5,
                    #batch_count= 1,# NOT SUPPORTED
                    width=512, #image width 
                    height=768, #Image Height
                    n_iter= 1, # number of interactions = repeat process X times plz dont go higher than 4 :)
                    #tiling='true', # masked 
                    eta= 2,
                    denoising_strength=0.7, # for hr 
                    hr_upscaler="Latent", # Latent (antialiased) , Latent (bicubic) , Latent (bicubic antialiased) , Latent (nearest) , Latent (nearest) , Nearest
                    #refiner_checkpoint="path to safetensor file",
                    #refiner_switch_at=0.8,

                    ##### HIRE STEPS ####
                    #hr_prompt="",
                    #hr_negative_prompt="",
                    #"hr_second_pass_steps": 0,
                    #"hr_resize_x": 0,
                    #"hr_resize_y": 0,
                    #"hr_checkpoint_name": "string",
                    #hr_sampler_name= "string",
                    #enable_hr= "false",




                    

                    







  #"do_not_save_samples": false,
  #"do_not_save_grid": false,
  #"s_min_uncond": 0,
  #"s_churn": 0,
  #"s_tmax": 0,
  #"s_tmin": 0,
  #"s_noise": 0,
  #"override_settings": {},
  #"override_settings_restore_afterwards": true,
  #"disable_extra_networks": false,
  #"comments": {},
  #"firstphase_width": 0,
  #"firstphase_height": 0,
  
  #"script_name": "string",
  #"script_args": [],
  #"send_images": true,
  #"save_images": false,

                    )
result1.image
# txt2img

result1 = api.txt2img(
                   prompt="detailed portrait Neon boxer Brazilian Girl, cyberpunk futuristic neon, reflective crop top and shorts, boxing gloves, decorated with traditional Japanese ornaments by Ismail inceoglu dragan bibin hans thoma greg rutkowski Alexandros Pyromallis Nekro Rene Maritte Illustrated, Perfect face, fine details, realistic shaded, fine-face, pretty face",
                   negative_prompt="(worst quality:1.5), (low quality:1.5), (normal quality:1.5), lowres, bad anatomy, bad hands, multiple eyebrow, (cropped), extra limb, missing limbs, deformed hands, long neck, long body, (bad hands), signature, username, artist name, conjoined fingers, deformed fingers, ugly eyes, imperfect eyes, skewed eyes, unnatural face, unnatural body, error, painting by bad-artist",
                   #styles=["anime"], #no need for style the model is pretrained
                    cfg_scale=7,
                    sampler_name='Euler a',     ## Heres the options : DPM++ 2M Karras , DPM++ SDE Karras , DPM++ 2M SDE Exponential , DPM++ 2M SDE Karras
                    steps="60",                 ## Euler a , Euler , LMS , Heun , DPM2 , DPM2 a , DPM++ 2S a , DPM++ 2M , DPM++ SDE , DPM++ 2M SDE , DPM++ 2M SDE Heun
                    seed=-1,#2231228288,
                    #subseed= -1,
                    #"subseed_strength": 0,
                    #seed_resize_from_h= -1,
                    #seed_resize_from_w= -1,
                    #restore_faces='true',
                    hr_scale= 2,  # hires step
                    batch_size= 5,
                    #batch_count= 1,# NOT SUPPORTED
                    width=512, #image width 
                    height=768, #Image Height
                    n_iter= 1, # number of interactions = repeat process X times plz dont go higher than 4 :)
                    #tiling='true', # masked 
                    eta= 2,
                    denoising_strength=0.7, # for hr 
                    hr_upscaler="Latent", # Latent (antialiased) , Latent (bicubic) , Latent (bicubic antialiased) , Latent (nearest) , Latent (nearest) , Nearest
                    #refiner_checkpoint="path to safetensor file",
                    #refiner_switch_at=0.8,

                    ##### HIRE STEPS ####
                    #hr_prompt="",
                    #hr_negative_prompt="",
                    #"hr_second_pass_steps": 0,
                    #"hr_resize_x": 0,
                    #"hr_resize_y": 0,
                    #"hr_checkpoint_name": "string",
                    #hr_sampler_name= "string",
                    #enable_hr= "false",




                    

                    







  #"do_not_save_samples": false,
  #"do_not_save_grid": false,
  #"s_min_uncond": 0,
  #"s_churn": 0,
  #"s_tmax": 0,
  #"s_tmin": 0,
  #"s_noise": 0,
  #"override_settings": {},
  #"override_settings_restore_afterwards": true,
  #"disable_extra_networks": false,
  #"comments": {},
  #"firstphase_width": 0,
  #"firstphase_height": 0,
  
  #"script_name": "string",
  #"script_args": [],
  #"send_images": true,
  #"save_images": false,

                    )
result1.image
# img2img

result2 = api.img2img(images=[result1.image], prompt=" masterpiece, best quality, half body, portrait, night city, 1girl, anime, 3D, Japan, pixar, realistic, teen girl, smiling, cute face, harajuku fashion style, rain coat, beautiful, colourful, neon lights, cyberpunk, smooth skin, illustration, by stanley artgerm lau, sideways glance, foreshortening, extremely detailed 8K, smooth, high resolution, ultra quality, highly detail eyes, highly detail mouth, highly detailed face, perfect eyes, both eyes are the same, glare, Iridescent, Global illumination, hd, 8k realistic light and shadow, bright Eyes, fluorescent eye", seed=5555, cfg_scale=6.5, denoising_strength=0.6)
result2.image
# inpainting with img2img

from PIL import Image, ImageDraw

mask = Image.new('RGB', result2.image.size, color = 'black')
# mask = result2.image.copy()
draw = ImageDraw.Draw(mask)
draw.ellipse((210,150,310,250), fill='white')
draw.ellipse((80,120,160,120+80), fill='white')

# mask

inpainting_result = api.img2img(images=[result2.image],
                                mask_image=mask,
                                inpainting_fill=1,
                                prompt="cute cat",
                                seed=104,
                                cfg_scale=5.0,
                                denoising_strength=0.7)
inpainting_result.image
result3 = api.extra_single_image(image=result2.image,
                                 upscaler_1="ESRGAN_4x",
                                 upscaling_resize=1.5)
print(result3.image.size)
result3.image
result4 = api.extra_batch_images(images=[result1.image, result2.image],
                                 upscaler_1="ESRGAN_4x",
                                 upscaling_resize=1.5)
len(result4.images)
result4.images[0]
result4.images[1]
# txt2img with scripts
XYPlotAvailableScripts = [
    "Nothing",
    "Seed",
    "Var. seed",
    "Var. strength",
    "Steps",
    "CFG Scale",
    "Prompt S/R",
    "Prompt order",
    "Sampler",
    "Checkpoint Name",
    "Hypernetwork",
    "Hypernet str.",
    "Sigma Churn",
    "Sigma min",
    "Sigma max",
    "Sigma noise",
    "Eta",
    "Clip skip",
    "Denoising",
    "Hires upscaler",
    "Cond. Image Mask Weight",
    "VAE",
    "Styles"
]

# Example call
XAxisType = "Steps"
XAxisValues = "32,64"
YAxisType = "Sampler"
YAxisValues = "k_euler_a, ddim, k_dpm_2_a"
drawLegend = "True"
includeSeparateImages = "False"
keepRandomSeed = "False"

result5 = api.txt2img(
    prompt="cute squirrel",
    negative_prompt="ugly, out of frame",
    seed=1003,
    cfg_scale=7,
    script_name="X/Y Plot",
    script_args=[
        XYPlotAvailableScripts.index(XAxisType),
        XAxisValues,
        XYPlotAvailableScripts.index(YAxisType),
        YAxisValues,
        drawLegend,
        includeSeparateImages,
        keepRandomSeed
    ]
)

result5.image
